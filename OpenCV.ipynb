{
  "nbformat": 4,
  "nbformat_minor": 0,
  "metadata": {
    "colab": {
      "provenance": [],
      "include_colab_link": true
    },
    "kernelspec": {
      "name": "python3",
      "display_name": "Python 3"
    },
    "language_info": {
      "name": "python"
    }
  },
  "cells": [
    {
      "cell_type": "markdown",
      "metadata": {
        "id": "view-in-github",
        "colab_type": "text"
      },
      "source": [
        "<a href=\"https://colab.research.google.com/github/DarknessSpectre/Labs/blob/main/OpenCV.ipynb\" target=\"_parent\"><img src=\"https://colab.research.google.com/assets/colab-badge.svg\" alt=\"Open In Colab\"/></a>"
      ]
    },
    {
      "cell_type": "markdown",
      "source": [
        "##Пример кода для изменения размера изображения\n",
        "Для работы с кодом, представленным ниже можно использовать любое изображение с расширением jpg, jpeg или png. Например, возьмем [картинку](https://drive.google.com/file/d/1WpOjstyzZZ_-T0ybzn-Jmfu0wliJiKuX/view?usp=share_link), сгенерированную с помощью нейросети на сервисе leonardo.ai."
      ],
      "metadata": {
        "id": "1_piGbQimUSh"
      }
    },
    {
      "cell_type": "code",
      "execution_count": null,
      "metadata": {
        "id": "d0_asbO-l05-"
      },
      "outputs": [],
      "source": [
        "import cv2\n",
        "\n",
        "# загрузка изображения с диска\n",
        "img = cv2.imread('image.jpg')\n",
        "\n",
        "# изменение размера изображения\n",
        "img_resized = cv2.resize(img, (640, 480))\n",
        "\n",
        "# сохранение изображения на диск\n",
        "cv2.imwrite('my_image_resized.jpg', img_resized)\n",
        "\n"
      ]
    },
    {
      "cell_type": "markdown",
      "source": [
        "##Пример вывода изображения на экран"
      ],
      "metadata": {
        "id": "pwhFKWmxpHvt"
      }
    },
    {
      "cell_type": "code",
      "source": [
        "import cv2\n",
        "\n",
        "# загрузка изображения\n",
        "img = cv2.imread('image.jpg')\n",
        "\n",
        "# отображение изображения\n",
        "cv2.imshow('Image', img)\n",
        "cv2.waitKey(0)\n",
        "cv2.destroyAllWindows()\n"
      ],
      "metadata": {
        "id": "fg2mPlPGpR5m"
      },
      "execution_count": null,
      "outputs": []
    },
    {
      "cell_type": "markdown",
      "source": [
        "В Google Colab мы можем использовать другие функции для отображения изображений, такие как cv2_imshow() и plt.imshow(). Функция cv2_imshow() аналогична функции cv2.imshow() на локальном компьютере, но предназначена для использования в Google Colab и выводит изображение не в отдельном окне, а прямо в веб-страничке"
      ],
      "metadata": {
        "id": "2VE2M2GXqs1e"
      }
    },
    {
      "cell_type": "code",
      "source": [
        "from google.colab.patches import cv2_imshow\n",
        "import cv2\n",
        "\n",
        "# загрузка изображения\n",
        "img = cv2.imread('image.jpg')\n",
        "\n",
        "# отображение изображения\n",
        "cv2_imshow(img)\n"
      ],
      "metadata": {
        "id": "WxCh2Cowq0QB"
      },
      "execution_count": null,
      "outputs": []
    },
    {
      "cell_type": "markdown",
      "source": [
        "Также в Google Colab мы можем использовать функцию plt.imshow() из библиотеки matplotlib для отображения изображений"
      ],
      "metadata": {
        "id": "J-3c7xzwq4OZ"
      }
    },
    {
      "cell_type": "code",
      "source": [
        "import cv2\n",
        "import matplotlib.pyplot as plt\n",
        "\n",
        "# загрузка изображения\n",
        "img = cv2.imread('image.jpg')\n",
        "\n",
        "# отображение изображения\n",
        "plt.imshow(img)\n",
        "plt.show()\n",
        "\n"
      ],
      "metadata": {
        "id": "CoulOaq9q8k4"
      },
      "execution_count": null,
      "outputs": []
    },
    {
      "cell_type": "markdown",
      "source": [
        "##Изменение размера изображения"
      ],
      "metadata": {
        "id": "PjS8h4MvhDt3"
      }
    },
    {
      "cell_type": "code",
      "source": [
        "import cv2\n",
        "\n",
        "# загрузка изображения\n",
        "img = cv2.imread('image.jpg')\n",
        "\n",
        "# изменение размера изображения в два раза\n",
        "resized_img = cv2.resize(img, (0, 0), fx=2, fy=2)\n",
        "\n",
        "# отображение исходного и измененного изображения\n",
        "cv2.imshow('Original Image', img)\n",
        "cv2.imshow('Resized Image', resized_img)\n",
        "cv2.waitKey(0)\n",
        "cv2.destroyAllWindows()\n"
      ],
      "metadata": {
        "id": "0xEVWU1ChCvL"
      },
      "execution_count": null,
      "outputs": []
    },
    {
      "cell_type": "markdown",
      "source": [
        "##Обрезка изображения"
      ],
      "metadata": {
        "id": "d96VFohAhJNB"
      }
    },
    {
      "cell_type": "code",
      "source": [
        "import cv2\n",
        "\n",
        "# загрузка изображения\n",
        "img = cv2.imread('image.jpg')\n",
        "\n",
        "# обрезка изображения\n",
        "cropped_img = img[50:200, 150:300]\n",
        "\n",
        "# отображение исходного и обрезанного изображения\n",
        "cv2.imshow('Original Image', img)\n",
        "cv2.imshow('Cropped Image', cropped_img)\n",
        "cv2.waitKey(0)\n",
        "cv2.destroyAllWindows()\n"
      ],
      "metadata": {
        "id": "YnHVbQ6MhNbm"
      },
      "execution_count": null,
      "outputs": []
    },
    {
      "cell_type": "markdown",
      "source": [
        "##Поворот изображения"
      ],
      "metadata": {
        "id": "cwE6H6EvhTz2"
      }
    },
    {
      "cell_type": "code",
      "source": [
        "import cv2\n",
        "\n",
        "# загрузка изображения\n",
        "img = cv2.imread('image.jpg')\n",
        "\n",
        "# поворот изображения на 90 градусов\n",
        "rotated_img = cv2.rotate(img, cv2.ROTATE_90_CLOCKWISE)\n",
        "\n",
        "# отображение исходного и повернутого изображения\n",
        "cv2.imshow('Original Image', img)\n",
        "cv2.imshow('Rotated Image', rotated_img)\n",
        "cv2.waitKey(0)\n",
        "cv2.destroyAllWindows()\n"
      ],
      "metadata": {
        "id": "ovbnYPLNhYHd"
      },
      "execution_count": null,
      "outputs": []
    }
  ]
}