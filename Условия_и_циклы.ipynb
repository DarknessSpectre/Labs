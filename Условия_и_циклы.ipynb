{
  "nbformat": 4,
  "nbformat_minor": 0,
  "metadata": {
    "colab": {
      "provenance": []
    },
    "kernelspec": {
      "display_name": "Python 3",
      "language": "python",
      "name": "python3"
    },
    "language_info": {
      "codemirror_mode": {
        "name": "ipython",
        "version": 3
      },
      "file_extension": ".py",
      "mimetype": "text/x-python",
      "name": "python",
      "nbconvert_exporter": "python",
      "pygments_lexer": "ipython3",
      "version": "3.7.6"
    }
  },
  "cells": [
    {
      "cell_type": "markdown",
      "metadata": {
        "id": "At488OpYF1fl"
      },
      "source": [
        "# Логические конструкции\n",
        "![линейная программа](https://cf2.ppt-online.org/files2/slide/g/g6idROA2o0KtejWcF9C3UwIvEXlH8SyhLsmJNx/slide-2.jpg)\n",
        "![ветвление](https://drive.google.com/uc?export=view&id=1mxdUs7agBwIsaUU1UXE6oxohJl8xCsPb)"
      ]
    },
    {
      "cell_type": "markdown",
      "metadata": {
        "id": "gaHpdZa_M2nK"
      },
      "source": [
        "# Какие бывают условия\n",
        "* == равенство\n",
        "* < меньше\n",
        "* \\> больше\n",
        "* <= меньше или равно\n",
        "* \\>= больше или равно\n",
        "* != неравенство"
      ]
    },
    {
      "cell_type": "code",
      "source": [
        "num_one = 10\n",
        "num_two = 5"
      ],
      "metadata": {
        "id": "HY_Hr71tH-4M"
      },
      "execution_count": null,
      "outputs": []
    },
    {
      "cell_type": "markdown",
      "source": [
        "Первое число больше второго?"
      ],
      "metadata": {
        "id": "t82Ti1kQISAB"
      }
    },
    {
      "cell_type": "code",
      "source": [
        "num_one > num_two"
      ],
      "metadata": {
        "colab": {
          "base_uri": "https://localhost:8080/"
        },
        "id": "wh4Kk5GgIJLH",
        "outputId": "7074d8d6-8bcd-4a00-923a-2887a98642eb"
      },
      "execution_count": null,
      "outputs": [
        {
          "output_type": "execute_result",
          "data": {
            "text/plain": [
              "True"
            ]
          },
          "metadata": {},
          "execution_count": 2
        }
      ]
    },
    {
      "cell_type": "markdown",
      "source": [
        "Первое число меньше второго?"
      ],
      "metadata": {
        "id": "KQ1acVO1Iac9"
      }
    },
    {
      "cell_type": "code",
      "source": [
        "num_one < num_two"
      ],
      "metadata": {
        "colab": {
          "base_uri": "https://localhost:8080/"
        },
        "id": "RRclvo5eIQke",
        "outputId": "dd33c135-d24a-40ca-e212-62a1fda869a3"
      },
      "execution_count": null,
      "outputs": [
        {
          "output_type": "execute_result",
          "data": {
            "text/plain": [
              "False"
            ]
          },
          "metadata": {},
          "execution_count": 3
        }
      ]
    },
    {
      "cell_type": "markdown",
      "source": [
        "Первое число равно второму?"
      ],
      "metadata": {
        "id": "LOML1uddIqcL"
      }
    },
    {
      "cell_type": "code",
      "source": [
        "num_one == num_two"
      ],
      "metadata": {
        "colab": {
          "base_uri": "https://localhost:8080/"
        },
        "id": "CxHLbvKNIukf",
        "outputId": "66505b56-972f-4a43-e0a9-370a5bb2d929"
      },
      "execution_count": null,
      "outputs": [
        {
          "output_type": "execute_result",
          "data": {
            "text/plain": [
              "False"
            ]
          },
          "metadata": {},
          "execution_count": 4
        }
      ]
    },
    {
      "cell_type": "markdown",
      "source": [
        "Первое число не равно второму?"
      ],
      "metadata": {
        "id": "tcyZhWkGIyAQ"
      }
    },
    {
      "cell_type": "code",
      "source": [
        "num_one != num_two"
      ],
      "metadata": {
        "colab": {
          "base_uri": "https://localhost:8080/"
        },
        "id": "5U8FuWe3I2kk",
        "outputId": "4e79a4b0-3f30-4f80-a739-62d00e6bd4ab"
      },
      "execution_count": null,
      "outputs": [
        {
          "output_type": "execute_result",
          "data": {
            "text/plain": [
              "True"
            ]
          },
          "metadata": {},
          "execution_count": 5
        }
      ]
    },
    {
      "cell_type": "markdown",
      "source": [
        "Сравним две строки"
      ],
      "metadata": {
        "id": "hGvQ6RMTLUxk"
      }
    },
    {
      "cell_type": "code",
      "source": [
        "'строка' == 'строка'"
      ],
      "metadata": {
        "colab": {
          "base_uri": "https://localhost:8080/"
        },
        "id": "MMTM2faJK-RS",
        "outputId": "47b9c57b-16e3-4113-b3bc-a69539f3e654"
      },
      "execution_count": null,
      "outputs": [
        {
          "output_type": "execute_result",
          "data": {
            "text/plain": [
              "True"
            ]
          },
          "metadata": {},
          "execution_count": 6
        }
      ]
    },
    {
      "cell_type": "markdown",
      "source": [
        "Если проверять строки на неравенство, то учитывается длина строки"
      ],
      "metadata": {
        "id": "XTgAkGV1LLZJ"
      }
    },
    {
      "cell_type": "code",
      "source": [
        "'строка1' > 'строка'"
      ],
      "metadata": {
        "colab": {
          "base_uri": "https://localhost:8080/"
        },
        "id": "YqkayUQ2LPC_",
        "outputId": "ed8c0248-b7cb-4c49-9e01-b1f35d3fa132"
      },
      "execution_count": null,
      "outputs": [
        {
          "output_type": "execute_result",
          "data": {
            "text/plain": [
              "True"
            ]
          },
          "metadata": {},
          "execution_count": 7
        }
      ]
    },
    {
      "cell_type": "markdown",
      "source": [
        "Простейшее условие."
      ],
      "metadata": {
        "id": "9sHW_mVgOOet"
      }
    },
    {
      "cell_type": "code",
      "source": [
        "# впишем любое число в переменную x\n",
        "x = 9\n",
        "if x % 2 == 0: # проверка на четность с помощью поиска остатка от деления\n",
        "  print('Число четное') # операции, которые выполнятся, если условие будет правдой\n",
        "  print('Условие сработало') # операция может быть одна или несколько\n",
        "print('Конец программы') # код после условия, который выполнится в любом случае"
      ],
      "metadata": {
        "id": "Nv_hL1HHkAiR",
        "colab": {
          "base_uri": "https://localhost:8080/"
        },
        "outputId": "4b5ce1bb-b64b-4820-901a-0fa80c3ac689"
      },
      "execution_count": null,
      "outputs": [
        {
          "output_type": "stream",
          "name": "stdout",
          "text": [
            "Конец программы\n"
          ]
        }
      ]
    },
    {
      "cell_type": "markdown",
      "source": [
        "Добавим else"
      ],
      "metadata": {
        "id": "3rCnq5V-8zM9"
      }
    },
    {
      "cell_type": "code",
      "source": [
        "# впишем любое число в переменную x\n",
        "x = 8\n",
        "if x % 2 == 0: # проверка на четность с помощью поиска остатка от деления\n",
        "  print('Число четное') # операции, которые выполнятся, если условие будет правдой\n",
        "  print('Условие сработало') # операция может быть одна или несколько\n",
        "else:\n",
        "  print('Число нечетное') # выполняется, если условие ложно\n",
        "print('Конец программы') # код после условия, который выполнится в любом случае"
      ],
      "metadata": {
        "id": "YIw4E_RH83BD",
        "colab": {
          "base_uri": "https://localhost:8080/"
        },
        "outputId": "f7ce5996-380e-4299-e7ac-68c81d738b10"
      },
      "execution_count": null,
      "outputs": [
        {
          "output_type": "stream",
          "name": "stdout",
          "text": [
            "Число четное\n",
            "Условие сработало\n",
            "Конец программы\n"
          ]
        }
      ]
    },
    {
      "cell_type": "markdown",
      "source": [
        "Добавим elif"
      ],
      "metadata": {
        "id": "tauqp02q9evP"
      }
    },
    {
      "cell_type": "code",
      "source": [
        "x = int(input('введи число ')) # считываем ввод с клавиатуры и преобразуем в число\n",
        "if x == 0: # проверка первого условия\n",
        "  print('введен ноль')\n",
        "elif x % 2 == 0:# проверка второго условия\n",
        "  print('число четное')\n",
        "else: # если не сработали первое и второе условия\n",
        "  print('число нечетное')\n"
      ],
      "metadata": {
        "id": "AVejB1AdJcYh",
        "colab": {
          "base_uri": "https://localhost:8080/"
        },
        "outputId": "b35fcc60-0050-4689-8014-ad626c881112"
      },
      "execution_count": null,
      "outputs": [
        {
          "output_type": "stream",
          "name": "stdout",
          "text": [
            "введи число 7\n",
            "число нечетное\n"
          ]
        }
      ]
    },
    {
      "cell_type": "markdown",
      "source": [
        "Задание на закрепление\n",
        "\n",
        "Написать программу вычисления стоимости покупки с учетом скидки. Скидка в 3% предоставляется в том случае, если сумма покупки больше 500 руб., в 5% - если сумма больше 1000 руб."
      ],
      "metadata": {
        "id": "34X2j-iAJeXi"
      }
    },
    {
      "cell_type": "code",
      "source": [
        "price = int(input('Введите стоимость покупок в рублях ')) # считываем ввод с клавиатуры и преобразуем в число\n",
        "if price > 1000: # условие для большой скидки\n",
        "  discount = price * 0.05 # считаем 5%\n",
        "  total = price - discount # считаем сумму к оплате\n",
        "elif price > 500: # условие для маленькой скидки\n",
        "  discount = price * 0.03 # считаем 3%\n",
        "  total = price - discount # считаем сумму к оплате\n",
        "else: # если скидка не полагается\n",
        "  discount = 0\n",
        "  total = price # сумма к оплате равна стоимости покупок\n",
        "print('Скидка составляет:', discount, 'руб.')\n",
        "print('Итого к оплате:', total, 'руб.')"
      ],
      "metadata": {
        "id": "P1VPh9lLL5yJ",
        "colab": {
          "base_uri": "https://localhost:8080/"
        },
        "outputId": "528d8bbd-9bc8-4e47-9de2-a41770f04369"
      },
      "execution_count": null,
      "outputs": [
        {
          "output_type": "stream",
          "name": "stdout",
          "text": [
            "Введите стоимость покупок в рублях 356\n",
            "Скидка составляет: 0 руб.\n",
            "Итого к оплате: 356 руб.\n"
          ]
        }
      ]
    },
    {
      "cell_type": "markdown",
      "source": [
        "Сделаем вложенные условия"
      ],
      "metadata": {
        "id": "TaumDm8X465Q"
      }
    },
    {
      "cell_type": "code",
      "source": [
        "price = int(input('Введите стоимость покупок в рублях ')) # считываем ввод с клавиатуры и преобразуем в число\n",
        "card = input('Есть ли у вас скидочная карта? (да/нет)')\n",
        "if card == 'да':\n",
        "  if price > 1000: # условие для большой скидки\n",
        "    discount = price * 0.05 # считаем 5%\n",
        "    total = price - discount # считаем сумму к оплате\n",
        "  elif price > 500: # условие для маленькой скидки\n",
        "    discount = price * 0.03 # считаем 3%\n",
        "    total = price - discount # считаем сумму к оплате\n",
        "  else: # если скидка не полагается\n",
        "    discount = 0\n",
        "    total = price # сумма к оплате равна стоимости покупок\n",
        "else: # если скидка не полагается\n",
        "  discount = 0\n",
        "  total = price # сумма к оплате равна стоимости покупок\n",
        "\n",
        "print('Скидка составляет:', discount, 'руб.')\n",
        "print('Итого к оплате:', total, 'руб.')"
      ],
      "metadata": {
        "id": "AuH6P6T_dmdV",
        "colab": {
          "base_uri": "https://localhost:8080/"
        },
        "outputId": "d681eaa2-5081-4446-da93-7abb2b6af202"
      },
      "execution_count": null,
      "outputs": [
        {
          "output_type": "stream",
          "name": "stdout",
          "text": [
            "Введите стоимость покупок в рублях 400\n",
            "Есть ли у вас скидочная карта? (да/нет)да\n",
            "Скидка составляет: 0 руб.\n",
            "Итого к оплате: 400 руб.\n"
          ]
        }
      ]
    },
    {
      "cell_type": "markdown",
      "source": [
        "Рассмотрим цикл for"
      ],
      "metadata": {
        "id": "FOxS3R9k4xnR"
      }
    },
    {
      "cell_type": "code",
      "source": [
        "names = ['Ваня', 'Петя', 'Маша', 'Даша']\n",
        "for i in names: # для i-ого элемента в списке names\n",
        "  print(i) # выведем на экран i-й элемент\n",
        "print('Список имен закончился') # что изменится, если добавить отступ этой строке?\n"
      ],
      "metadata": {
        "id": "prRU0NRx5CYK",
        "colab": {
          "base_uri": "https://localhost:8080/"
        },
        "outputId": "72f60050-97c7-454f-fe51-92cc22121495"
      },
      "execution_count": null,
      "outputs": [
        {
          "output_type": "stream",
          "name": "stdout",
          "text": [
            "Ваня\n",
            "Петя\n",
            "Маша\n",
            "Даша\n",
            "Список имен закончился\n"
          ]
        }
      ]
    },
    {
      "cell_type": "markdown",
      "source": [
        "Теперь тоже самое, но через range()"
      ],
      "metadata": {
        "id": "dH-wrWXM5dca"
      }
    },
    {
      "cell_type": "code",
      "source": [
        "names = ['Ваня', 'Петя', 'Маша', 'Даша']\n",
        "for i in range(len(names)): # теперь i не строка из списка, а число из диапазона\n",
        "  print(i, names[i]) # выведем число i и i-й элемент из списка\n",
        "  # что делать, если мы хотим, чтобы выводимое в print число было не от нуля, а от единицы?\n",
        "print('Список имен закончился')"
      ],
      "metadata": {
        "id": "0IGWHWv35kNp",
        "colab": {
          "base_uri": "https://localhost:8080/"
        },
        "outputId": "1b1dc915-9f49-4f90-e865-14c72fe8f166"
      },
      "execution_count": null,
      "outputs": [
        {
          "output_type": "stream",
          "name": "stdout",
          "text": [
            "0 Ваня\n",
            "1 Петя\n",
            "2 Маша\n",
            "3 Даша\n",
            "Список имен закончился\n"
          ]
        }
      ]
    },
    {
      "cell_type": "markdown",
      "source": [
        "Теперь поработаем с циклом while"
      ],
      "metadata": {
        "id": "J_j5e9IWKc9M"
      }
    },
    {
      "cell_type": "code",
      "source": [
        "names = ['Ваня', 'Петя', 'Маша', 'Даша']\n",
        "i = 0\n",
        "while i < len(names): # условие для выполнения цикла\n",
        "  print(i, names[i]) # выведем число i и i-й элемент из списка\n",
        "  i += 1 # увеличение переменной условия\n",
        "  # что будет, если операцию увеличения i перенести в начало цикла?\n",
        "print('Список имен закончился')"
      ],
      "metadata": {
        "id": "FRAnRvsLKg46",
        "colab": {
          "base_uri": "https://localhost:8080/"
        },
        "outputId": "1d2e4d89-7003-4b60-bafa-f62b123d94e6"
      },
      "execution_count": null,
      "outputs": [
        {
          "output_type": "stream",
          "name": "stdout",
          "text": [
            "0 Ваня\n",
            "1 Петя\n",
            "2 Маша\n",
            "3 Даша\n",
            "Список имен закончился\n"
          ]
        }
      ]
    },
    {
      "cell_type": "markdown",
      "source": [
        "Прерывание цикла\n",
        "\n",
        "continue"
      ],
      "metadata": {
        "id": "b2HqwLzdQft6"
      }
    },
    {
      "cell_type": "code",
      "source": [
        "names = ['Ваня', 'Петя', 'Маша', 'Даша']\n",
        "for i in names:\n",
        "  if i == 'Петя': # проверка условия\n",
        "    continue # если Истина, прерываем и переходим к следующему i\n",
        "  print(i)"
      ],
      "metadata": {
        "id": "IROZbYGnQmEU",
        "colab": {
          "base_uri": "https://localhost:8080/"
        },
        "outputId": "9877c5ae-f9e4-472e-fd01-fda1f1aad7e0"
      },
      "execution_count": null,
      "outputs": [
        {
          "output_type": "stream",
          "name": "stdout",
          "text": [
            "Ваня\n",
            "Маша\n",
            "Даша\n"
          ]
        }
      ]
    },
    {
      "cell_type": "markdown",
      "source": [
        "break"
      ],
      "metadata": {
        "id": "iHcJXFrQRCSA"
      }
    },
    {
      "cell_type": "code",
      "source": [
        "names = ['Ваня', 'Петя', 'Маша', 'Даша']\n",
        "for i in names:\n",
        "  if i == 'Петя':# проверка условия\n",
        "    break # если Истина, прерываем и выходим из цикла\n",
        "  print(i)"
      ],
      "metadata": {
        "id": "E31kGtyUREiM",
        "colab": {
          "base_uri": "https://localhost:8080/"
        },
        "outputId": "838c4a99-5115-4264-90b5-13c6a37b8a47"
      },
      "execution_count": null,
      "outputs": [
        {
          "output_type": "stream",
          "name": "stdout",
          "text": [
            "Ваня\n"
          ]
        }
      ]
    },
    {
      "cell_type": "markdown",
      "source": [
        "Цикл в цикле (вложенные циклы)\n",
        "\n",
        "Напишем программу, которая сможет выдавать таблицу умножения для чисел на заданном пользователем диапазоне."
      ],
      "metadata": {
        "id": "KXHXBA7ERiig"
      }
    },
    {
      "cell_type": "code",
      "metadata": {
        "id": "cxP2BXvmazjc",
        "outputId": "d6fa8f34-1a67-47b0-a98c-76dc558af4f5",
        "colab": {
          "base_uri": "https://localhost:8080/"
        }
      },
      "source": [
        "a = int(input('Начало диапазона значений таблицы умножения'))\n",
        "b = int(input('Конец диапазона значений таблицы умножения'))\n",
        "for i in range(a, b+1): # +1 чтобы число b тоже вошло в диапазон\n",
        "  for j in range(a, b+1):\n",
        "    m = i * j\n",
        "    print(i, ' x ', j, ' = ', m)"
      ],
      "execution_count": null,
      "outputs": [
        {
          "output_type": "stream",
          "name": "stdout",
          "text": [
            "Начало диапазона значений таблицы умножения15\n",
            "Конец диапазона значений таблицы умножения18\n",
            "15  x  15  =  225\n",
            "15  x  16  =  240\n",
            "15  x  17  =  255\n",
            "15  x  18  =  270\n",
            "16  x  15  =  240\n",
            "16  x  16  =  256\n",
            "16  x  17  =  272\n",
            "16  x  18  =  288\n",
            "17  x  15  =  255\n",
            "17  x  16  =  272\n",
            "17  x  17  =  289\n",
            "17  x  18  =  306\n",
            "18  x  15  =  270\n",
            "18  x  16  =  288\n",
            "18  x  17  =  306\n",
            "18  x  18  =  324\n"
          ]
        }
      ]
    },
    {
      "cell_type": "markdown",
      "source": [
        "Задание для закрепления\n",
        "\n",
        "Пусть имеется список учеников. Напишем программу, которая добавляет учеников в список, проверяя, есть ли уже такое имя или нет."
      ],
      "metadata": {
        "id": "PKuk2D8ZSoEh"
      }
    },
    {
      "cell_type": "code",
      "metadata": {
        "id": "exL3tmkRfsWn"
      },
      "source": [
        "students = ['Иван', 'Василий', 'Мария', 'Марина', 'Эдуард', 'Иван']"
      ],
      "execution_count": null,
      "outputs": []
    },
    {
      "cell_type": "code",
      "metadata": {
        "id": "ZKYUznEyc6hM",
        "outputId": "3bd6b532-2c8a-477f-f4de-f185c235bb12",
        "colab": {
          "base_uri": "https://localhost:8080/"
        }
      },
      "source": [
        "\n",
        "name = input('Введите имя для поиска: ')\n",
        "check = 0\n",
        "for i in students:\n",
        "\n",
        "  if name == i:\n",
        "    print('Ученик найден.')\n",
        "    check += 1\n",
        "    continue\n",
        "  print(i)\n",
        "if check == 0:\n",
        "  print('Совпадений не найдено.')\n",
        "  students.append(name)\n",
        "  print('Новый ученик добавлен в список')\n",
        "print('Поиск окончен.')"
      ],
      "execution_count": null,
      "outputs": [
        {
          "output_type": "stream",
          "name": "stdout",
          "text": [
            "Введите имя для поиска: Лариса\n",
            "Иван\n",
            "Василий\n",
            "Мария\n",
            "Марина\n",
            "Эдуард\n",
            "Иван\n",
            "Ученик найден.\n",
            "Поиск окончен.\n"
          ]
        }
      ]
    },
    {
      "cell_type": "code",
      "source": [],
      "metadata": {
        "id": "rew7hKXEvJxx"
      },
      "execution_count": null,
      "outputs": []
    }
  ]
}