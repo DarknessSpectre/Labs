{
  "nbformat": 4,
  "nbformat_minor": 0,
  "metadata": {
    "colab": {
      "provenance": [],
      "include_colab_link": true
    },
    "kernelspec": {
      "name": "python3",
      "display_name": "Python 3"
    },
    "language_info": {
      "name": "python"
    }
  },
  "cells": [
    {
      "cell_type": "markdown",
      "metadata": {
        "id": "view-in-github",
        "colab_type": "text"
      },
      "source": [
        "<a href=\"https://colab.research.google.com/github/DarknessSpectre/Labs/blob/main/%D0%94%D0%B0%D1%82%D0%B0%D1%84%D1%80%D0%B5%D0%B9%D0%BC.ipynb\" target=\"_parent\"><img src=\"https://colab.research.google.com/assets/colab-badge.svg\" alt=\"Open In Colab\"/></a>"
      ]
    },
    {
      "cell_type": "markdown",
      "source": [
        "##Группировка данных"
      ],
      "metadata": {
        "id": "N5EAR7tAc4_w"
      }
    },
    {
      "cell_type": "code",
      "execution_count": null,
      "metadata": {
        "colab": {
          "base_uri": "https://localhost:8080/"
        },
        "id": "TICTOw4xccZG",
        "outputId": "0ca1ec04-76aa-4f67-f562-6f2ce1ae8651"
      },
      "outputs": [
        {
          "output_type": "stream",
          "name": "stdout",
          "text": [
            "  Класс   Ученики  Оценка\n",
            "0    8A     Алёна       5\n",
            "1    8A  Владимир       4\n",
            "2    8Б  Кристина       4\n",
            "3    8Б    Даниил       5\n",
            "4\n",
            "  Класс   Ученики  Оценка\n",
            "1    8A  Владимир       4\n",
            "2    8Б  Кристина       4\n",
            "5\n",
            "  Класс Ученики  Оценка\n",
            "0    8A   Алёна       5\n",
            "3    8Б  Даниил       5\n"
          ]
        }
      ],
      "source": [
        "import pandas as pd\n",
        "\n",
        "# Создаем примерную таблицу с данными о школьниках\n",
        "df = pd.DataFrame({'Класс': ['8A', '8A', '8Б', '8Б'], 'Ученики': ['Алёна', 'Владимир', 'Кристина', 'Даниил'], 'Оценка': [5, 4, 4, 5]})\n",
        "print(df)\n",
        "\n",
        "# Группируем данные по классам школьниках\n",
        "groups = df.groupby('Класс')\n",
        "\n",
        "# Печатаем результаты группировки\n",
        "for name, group in groups:\n",
        "  print(name)\n",
        "  print(group)"
      ]
    },
    {
      "cell_type": "code",
      "source": [],
      "metadata": {
        "id": "hWvSb4RWy8ka"
      },
      "execution_count": null,
      "outputs": []
    },
    {
      "cell_type": "markdown",
      "source": [
        "Найдем среднюю оценку по группе"
      ],
      "metadata": {
        "id": "Y45iQv8we4eZ"
      }
    },
    {
      "cell_type": "code",
      "source": [
        "mean_scores = df.groupby('Класс').mean()\n",
        "print(mean_scores)"
      ],
      "metadata": {
        "colab": {
          "base_uri": "https://localhost:8080/"
        },
        "id": "OVjY8ys2c2ZN",
        "outputId": "9f362a20-aafb-48ef-f25c-b3bf9beb0cf0"
      },
      "execution_count": null,
      "outputs": [
        {
          "output_type": "stream",
          "name": "stdout",
          "text": [
            "       Оценка\n",
            "Класс        \n",
            "8A        4.5\n",
            "8Б        4.5\n"
          ]
        }
      ]
    },
    {
      "cell_type": "markdown",
      "source": [
        "###Сгруппируем данные из [файла](https://drive.google.com/file/d/1mOXU48GaM7Bbv3zBxKaH4kTcVJoriC-1/view?usp=share_link) по региону\n",
        "\n",
        "Файл содержит статистику по стоимости Интернета в разных странах.\n",
        "\n",
        "- Скачайте файл\n",
        "- Сохраните в колабе\n",
        "- Прочитайте файл как датафрейм\n",
        "- Проведите группировку по столбцу Continental region"
      ],
      "metadata": {
        "id": "NXt0jeZ9fIlt"
      }
    },
    {
      "cell_type": "code",
      "source": [],
      "metadata": {
        "id": "kPNr-CxmdFhi"
      },
      "execution_count": null,
      "outputs": []
    },
    {
      "cell_type": "markdown",
      "source": [
        "##Сортировка данных"
      ],
      "metadata": {
        "id": "SuXTrx8mjkfw"
      }
    },
    {
      "cell_type": "code",
      "source": [
        "# Сортируем данные по убыванию оценок\n",
        "sorted_df = df.sort_values(by='Оценка', ascending=False)\n",
        "sorted_df.head()\n"
      ],
      "metadata": {
        "colab": {
          "base_uri": "https://localhost:8080/",
          "height": 175
        },
        "id": "zM30LjOtdNl2",
        "outputId": "8777a847-bb5f-4d51-e57c-8d31c429ecef"
      },
      "execution_count": null,
      "outputs": [
        {
          "output_type": "execute_result",
          "data": {
            "text/plain": [
              "  Класс   Ученики  Оценка\n",
              "0    8A     Алёна       5\n",
              "3    8Б    Даниил       5\n",
              "1    8A  Владимир       4\n",
              "2    8Б  Кристина       4"
            ],
            "text/html": [
              "\n",
              "  <div id=\"df-5fc50eb2-2ef2-4dae-ae3a-09b2ed6131ab\">\n",
              "    <div class=\"colab-df-container\">\n",
              "      <div>\n",
              "<style scoped>\n",
              "    .dataframe tbody tr th:only-of-type {\n",
              "        vertical-align: middle;\n",
              "    }\n",
              "\n",
              "    .dataframe tbody tr th {\n",
              "        vertical-align: top;\n",
              "    }\n",
              "\n",
              "    .dataframe thead th {\n",
              "        text-align: right;\n",
              "    }\n",
              "</style>\n",
              "<table border=\"1\" class=\"dataframe\">\n",
              "  <thead>\n",
              "    <tr style=\"text-align: right;\">\n",
              "      <th></th>\n",
              "      <th>Класс</th>\n",
              "      <th>Ученики</th>\n",
              "      <th>Оценка</th>\n",
              "    </tr>\n",
              "  </thead>\n",
              "  <tbody>\n",
              "    <tr>\n",
              "      <th>0</th>\n",
              "      <td>8A</td>\n",
              "      <td>Алёна</td>\n",
              "      <td>5</td>\n",
              "    </tr>\n",
              "    <tr>\n",
              "      <th>3</th>\n",
              "      <td>8Б</td>\n",
              "      <td>Даниил</td>\n",
              "      <td>5</td>\n",
              "    </tr>\n",
              "    <tr>\n",
              "      <th>1</th>\n",
              "      <td>8A</td>\n",
              "      <td>Владимир</td>\n",
              "      <td>4</td>\n",
              "    </tr>\n",
              "    <tr>\n",
              "      <th>2</th>\n",
              "      <td>8Б</td>\n",
              "      <td>Кристина</td>\n",
              "      <td>4</td>\n",
              "    </tr>\n",
              "  </tbody>\n",
              "</table>\n",
              "</div>\n",
              "      <button class=\"colab-df-convert\" onclick=\"convertToInteractive('df-5fc50eb2-2ef2-4dae-ae3a-09b2ed6131ab')\"\n",
              "              title=\"Convert this dataframe to an interactive table.\"\n",
              "              style=\"display:none;\">\n",
              "        \n",
              "  <svg xmlns=\"http://www.w3.org/2000/svg\" height=\"24px\"viewBox=\"0 0 24 24\"\n",
              "       width=\"24px\">\n",
              "    <path d=\"M0 0h24v24H0V0z\" fill=\"none\"/>\n",
              "    <path d=\"M18.56 5.44l.94 2.06.94-2.06 2.06-.94-2.06-.94-.94-2.06-.94 2.06-2.06.94zm-11 1L8.5 8.5l.94-2.06 2.06-.94-2.06-.94L8.5 2.5l-.94 2.06-2.06.94zm10 10l.94 2.06.94-2.06 2.06-.94-2.06-.94-.94-2.06-.94 2.06-2.06.94z\"/><path d=\"M17.41 7.96l-1.37-1.37c-.4-.4-.92-.59-1.43-.59-.52 0-1.04.2-1.43.59L10.3 9.45l-7.72 7.72c-.78.78-.78 2.05 0 2.83L4 21.41c.39.39.9.59 1.41.59.51 0 1.02-.2 1.41-.59l7.78-7.78 2.81-2.81c.8-.78.8-2.07 0-2.86zM5.41 20L4 18.59l7.72-7.72 1.47 1.35L5.41 20z\"/>\n",
              "  </svg>\n",
              "      </button>\n",
              "      \n",
              "  <style>\n",
              "    .colab-df-container {\n",
              "      display:flex;\n",
              "      flex-wrap:wrap;\n",
              "      gap: 12px;\n",
              "    }\n",
              "\n",
              "    .colab-df-convert {\n",
              "      background-color: #E8F0FE;\n",
              "      border: none;\n",
              "      border-radius: 50%;\n",
              "      cursor: pointer;\n",
              "      display: none;\n",
              "      fill: #1967D2;\n",
              "      height: 32px;\n",
              "      padding: 0 0 0 0;\n",
              "      width: 32px;\n",
              "    }\n",
              "\n",
              "    .colab-df-convert:hover {\n",
              "      background-color: #E2EBFA;\n",
              "      box-shadow: 0px 1px 2px rgba(60, 64, 67, 0.3), 0px 1px 3px 1px rgba(60, 64, 67, 0.15);\n",
              "      fill: #174EA6;\n",
              "    }\n",
              "\n",
              "    [theme=dark] .colab-df-convert {\n",
              "      background-color: #3B4455;\n",
              "      fill: #D2E3FC;\n",
              "    }\n",
              "\n",
              "    [theme=dark] .colab-df-convert:hover {\n",
              "      background-color: #434B5C;\n",
              "      box-shadow: 0px 1px 3px 1px rgba(0, 0, 0, 0.15);\n",
              "      filter: drop-shadow(0px 1px 2px rgba(0, 0, 0, 0.3));\n",
              "      fill: #FFFFFF;\n",
              "    }\n",
              "  </style>\n",
              "\n",
              "      <script>\n",
              "        const buttonEl =\n",
              "          document.querySelector('#df-5fc50eb2-2ef2-4dae-ae3a-09b2ed6131ab button.colab-df-convert');\n",
              "        buttonEl.style.display =\n",
              "          google.colab.kernel.accessAllowed ? 'block' : 'none';\n",
              "\n",
              "        async function convertToInteractive(key) {\n",
              "          const element = document.querySelector('#df-5fc50eb2-2ef2-4dae-ae3a-09b2ed6131ab');\n",
              "          const dataTable =\n",
              "            await google.colab.kernel.invokeFunction('convertToInteractive',\n",
              "                                                     [key], {});\n",
              "          if (!dataTable) return;\n",
              "\n",
              "          const docLinkHtml = 'Like what you see? Visit the ' +\n",
              "            '<a target=\"_blank\" href=https://colab.research.google.com/notebooks/data_table.ipynb>data table notebook</a>'\n",
              "            + ' to learn more about interactive tables.';\n",
              "          element.innerHTML = '';\n",
              "          dataTable['output_type'] = 'display_data';\n",
              "          await google.colab.output.renderOutput(dataTable, element);\n",
              "          const docLink = document.createElement('div');\n",
              "          docLink.innerHTML = docLinkHtml;\n",
              "          element.appendChild(docLink);\n",
              "        }\n",
              "      </script>\n",
              "    </div>\n",
              "  </div>\n",
              "  "
            ]
          },
          "metadata": {},
          "execution_count": 7
        }
      ]
    },
    {
      "cell_type": "code",
      "source": [
        "sorted_df = df.sort_values(by=['Класс', 'Оценка'], ascending=[True, False])\n",
        "sorted_df"
      ],
      "metadata": {
        "colab": {
          "base_uri": "https://localhost:8080/",
          "height": 175
        },
        "id": "PklV2f8fwBVa",
        "outputId": "adda5e04-88ca-4202-ffc4-0037d06adaee"
      },
      "execution_count": null,
      "outputs": [
        {
          "output_type": "execute_result",
          "data": {
            "text/plain": [
              "  Класс   Ученики  Оценка\n",
              "0    8A     Алёна       5\n",
              "1    8A  Владимир       4\n",
              "3    8Б    Даниил       5\n",
              "2    8Б  Кристина       4"
            ],
            "text/html": [
              "\n",
              "  <div id=\"df-06c82416-a822-4e42-9be7-b15d40a31d12\">\n",
              "    <div class=\"colab-df-container\">\n",
              "      <div>\n",
              "<style scoped>\n",
              "    .dataframe tbody tr th:only-of-type {\n",
              "        vertical-align: middle;\n",
              "    }\n",
              "\n",
              "    .dataframe tbody tr th {\n",
              "        vertical-align: top;\n",
              "    }\n",
              "\n",
              "    .dataframe thead th {\n",
              "        text-align: right;\n",
              "    }\n",
              "</style>\n",
              "<table border=\"1\" class=\"dataframe\">\n",
              "  <thead>\n",
              "    <tr style=\"text-align: right;\">\n",
              "      <th></th>\n",
              "      <th>Класс</th>\n",
              "      <th>Ученики</th>\n",
              "      <th>Оценка</th>\n",
              "    </tr>\n",
              "  </thead>\n",
              "  <tbody>\n",
              "    <tr>\n",
              "      <th>0</th>\n",
              "      <td>8A</td>\n",
              "      <td>Алёна</td>\n",
              "      <td>5</td>\n",
              "    </tr>\n",
              "    <tr>\n",
              "      <th>1</th>\n",
              "      <td>8A</td>\n",
              "      <td>Владимир</td>\n",
              "      <td>4</td>\n",
              "    </tr>\n",
              "    <tr>\n",
              "      <th>3</th>\n",
              "      <td>8Б</td>\n",
              "      <td>Даниил</td>\n",
              "      <td>5</td>\n",
              "    </tr>\n",
              "    <tr>\n",
              "      <th>2</th>\n",
              "      <td>8Б</td>\n",
              "      <td>Кристина</td>\n",
              "      <td>4</td>\n",
              "    </tr>\n",
              "  </tbody>\n",
              "</table>\n",
              "</div>\n",
              "      <button class=\"colab-df-convert\" onclick=\"convertToInteractive('df-06c82416-a822-4e42-9be7-b15d40a31d12')\"\n",
              "              title=\"Convert this dataframe to an interactive table.\"\n",
              "              style=\"display:none;\">\n",
              "        \n",
              "  <svg xmlns=\"http://www.w3.org/2000/svg\" height=\"24px\"viewBox=\"0 0 24 24\"\n",
              "       width=\"24px\">\n",
              "    <path d=\"M0 0h24v24H0V0z\" fill=\"none\"/>\n",
              "    <path d=\"M18.56 5.44l.94 2.06.94-2.06 2.06-.94-2.06-.94-.94-2.06-.94 2.06-2.06.94zm-11 1L8.5 8.5l.94-2.06 2.06-.94-2.06-.94L8.5 2.5l-.94 2.06-2.06.94zm10 10l.94 2.06.94-2.06 2.06-.94-2.06-.94-.94-2.06-.94 2.06-2.06.94z\"/><path d=\"M17.41 7.96l-1.37-1.37c-.4-.4-.92-.59-1.43-.59-.52 0-1.04.2-1.43.59L10.3 9.45l-7.72 7.72c-.78.78-.78 2.05 0 2.83L4 21.41c.39.39.9.59 1.41.59.51 0 1.02-.2 1.41-.59l7.78-7.78 2.81-2.81c.8-.78.8-2.07 0-2.86zM5.41 20L4 18.59l7.72-7.72 1.47 1.35L5.41 20z\"/>\n",
              "  </svg>\n",
              "      </button>\n",
              "      \n",
              "  <style>\n",
              "    .colab-df-container {\n",
              "      display:flex;\n",
              "      flex-wrap:wrap;\n",
              "      gap: 12px;\n",
              "    }\n",
              "\n",
              "    .colab-df-convert {\n",
              "      background-color: #E8F0FE;\n",
              "      border: none;\n",
              "      border-radius: 50%;\n",
              "      cursor: pointer;\n",
              "      display: none;\n",
              "      fill: #1967D2;\n",
              "      height: 32px;\n",
              "      padding: 0 0 0 0;\n",
              "      width: 32px;\n",
              "    }\n",
              "\n",
              "    .colab-df-convert:hover {\n",
              "      background-color: #E2EBFA;\n",
              "      box-shadow: 0px 1px 2px rgba(60, 64, 67, 0.3), 0px 1px 3px 1px rgba(60, 64, 67, 0.15);\n",
              "      fill: #174EA6;\n",
              "    }\n",
              "\n",
              "    [theme=dark] .colab-df-convert {\n",
              "      background-color: #3B4455;\n",
              "      fill: #D2E3FC;\n",
              "    }\n",
              "\n",
              "    [theme=dark] .colab-df-convert:hover {\n",
              "      background-color: #434B5C;\n",
              "      box-shadow: 0px 1px 3px 1px rgba(0, 0, 0, 0.15);\n",
              "      filter: drop-shadow(0px 1px 2px rgba(0, 0, 0, 0.3));\n",
              "      fill: #FFFFFF;\n",
              "    }\n",
              "  </style>\n",
              "\n",
              "      <script>\n",
              "        const buttonEl =\n",
              "          document.querySelector('#df-06c82416-a822-4e42-9be7-b15d40a31d12 button.colab-df-convert');\n",
              "        buttonEl.style.display =\n",
              "          google.colab.kernel.accessAllowed ? 'block' : 'none';\n",
              "\n",
              "        async function convertToInteractive(key) {\n",
              "          const element = document.querySelector('#df-06c82416-a822-4e42-9be7-b15d40a31d12');\n",
              "          const dataTable =\n",
              "            await google.colab.kernel.invokeFunction('convertToInteractive',\n",
              "                                                     [key], {});\n",
              "          if (!dataTable) return;\n",
              "\n",
              "          const docLinkHtml = 'Like what you see? Visit the ' +\n",
              "            '<a target=\"_blank\" href=https://colab.research.google.com/notebooks/data_table.ipynb>data table notebook</a>'\n",
              "            + ' to learn more about interactive tables.';\n",
              "          element.innerHTML = '';\n",
              "          dataTable['output_type'] = 'display_data';\n",
              "          await google.colab.output.renderOutput(dataTable, element);\n",
              "          const docLink = document.createElement('div');\n",
              "          docLink.innerHTML = docLinkHtml;\n",
              "          element.appendChild(docLink);\n",
              "        }\n",
              "      </script>\n",
              "    </div>\n",
              "  </div>\n",
              "  "
            ]
          },
          "metadata": {},
          "execution_count": 8
        }
      ]
    },
    {
      "cell_type": "markdown",
      "source": [
        "##Объединение данных\n",
        "Функция merge()"
      ],
      "metadata": {
        "id": "xZkballE0JHp"
      }
    },
    {
      "cell_type": "code",
      "source": [
        "import pandas as pd\n",
        "\n",
        "# Создаем две примерные таблицы с данными о школьниках\n",
        "df1 = pd.DataFrame({'Класс': ['8A', '8A', '8Б', '8Б'], 'Ученики': ['Алёна', 'Владимир', 'Кристина', 'Даниил'], 'Оценка 1': [5, 4, 4, 5]})\n",
        "df2 = pd.DataFrame({'Класс': ['8A', '8A', '8Б', '8Б'], 'Ученики': ['Алёна', 'Владимир', 'Кристина', 'Даниил'], 'Оценка 2': [3, 3, 3, 5]})\n",
        "print(df1)\n",
        "print(df2)\n",
        "# Объединяем таблицы по имени школьника\n",
        "df = pd.merge(df1, df2, on='Ученики')\n",
        "print(df)\n"
      ],
      "metadata": {
        "colab": {
          "base_uri": "https://localhost:8080/"
        },
        "id": "sN0mKSTM0URD",
        "outputId": "a18787e8-9a59-4fc6-868f-79623557de63"
      },
      "execution_count": null,
      "outputs": [
        {
          "output_type": "stream",
          "name": "stdout",
          "text": [
            "  Класс   Ученики  Оценка 1\n",
            "0    8A     Алёна         5\n",
            "1    8A  Владимир         4\n",
            "2    8Б  Кристина         4\n",
            "3    8Б    Даниил         5\n",
            "  Класс   Ученики  Оценка 2\n",
            "0    8A     Алёна         3\n",
            "1    8A  Владимир         3\n",
            "2    8Б  Кристина         3\n",
            "3    8Б    Даниил         5\n",
            "  Класс_x   Ученики  Оценка 1 Класс_y  Оценка 2\n",
            "0      8A     Алёна         5      8A         3\n",
            "1      8A  Владимир         4      8A         3\n",
            "2      8Б  Кристина         4      8Б         3\n",
            "3      8Б    Даниил         5      8Б         5\n"
          ]
        }
      ]
    },
    {
      "cell_type": "markdown",
      "source": [
        "Функция concat()"
      ],
      "metadata": {
        "id": "4H_1PVpQJHox"
      }
    },
    {
      "cell_type": "code",
      "source": [
        "import pandas as pd\n",
        "\n",
        "# Создаем две таблицы\n",
        "df1 = pd.DataFrame({'A': ['A0', 'A1', 'A2'],\n",
        "                    'B': ['B0', 'B1', 'B2'],\n",
        "                    'C': ['C0', 'C1', 'C2']},\n",
        "                    index=[0, 1, 2])\n",
        "\n",
        "df2 = pd.DataFrame({'A': ['A3', 'A4', 'A5'],\n",
        "                    'B': ['B3', 'B4', 'B5'],\n",
        "                    'C': ['C3', 'C4', 'C5']},\n",
        "                    index=[3, 4, 5])\n",
        "\n",
        "# Объединяем таблицы с помощью concat()\n",
        "df3 = pd.concat([df1, df2])\n",
        "print(df3)\n"
      ],
      "metadata": {
        "colab": {
          "base_uri": "https://localhost:8080/"
        },
        "id": "VPIq5dV_JL2q",
        "outputId": "70d0df33-67bf-46ac-8244-36f27718673f"
      },
      "execution_count": null,
      "outputs": [
        {
          "output_type": "stream",
          "name": "stdout",
          "text": [
            "    A   B   C\n",
            "0  A0  B0  C0\n",
            "1  A1  B1  C1\n",
            "2  A2  B2  C2\n",
            "3  A3  B3  C3\n",
            "4  A4  B4  C4\n",
            "5  A5  B5  C5\n"
          ]
        }
      ]
    },
    {
      "cell_type": "markdown",
      "source": [
        "Функция join()"
      ],
      "metadata": {
        "id": "EAjxsNjrKlbh"
      }
    },
    {
      "cell_type": "code",
      "source": [
        "import pandas as pd\n",
        "\n",
        "# Создаем две таблицы\n",
        "df1 = pd.DataFrame({'key': ['K0', 'K1', 'K2', 'K3'],\n",
        "                    'A': ['A0', 'A1', 'A2', 'A3'],\n",
        "                    'B': ['B0', 'B1', 'B2', 'B3']})\n",
        "\n",
        "df2 = pd.DataFrame({'key': ['K0', 'K1', 'K2', 'K3'],\n",
        "                    'C': ['C0', 'C1', 'C2', 'C3'],\n",
        "                    'D': ['D0', 'D1', 'D2', 'D3']})\n",
        "\n",
        "# Объединяем таблицы с помощью join()\n",
        "df3 = df1.join(df2, lsuffix='_1', rsuffix='_2')\n",
        "print(df3)\n"
      ],
      "metadata": {
        "colab": {
          "base_uri": "https://localhost:8080/"
        },
        "id": "Vw_uV2PVJ31P",
        "outputId": "974ef4b7-233a-4efb-fdb8-a9e4e40e1b66"
      },
      "execution_count": null,
      "outputs": [
        {
          "output_type": "stream",
          "name": "stdout",
          "text": [
            "  key_1   A   B key_2   C   D\n",
            "0    K0  A0  B0    K0  C0  D0\n",
            "1    K1  A1  B1    K1  C1  D1\n",
            "2    K2  A2  B2    K2  C2  D2\n",
            "3    K3  A3  B3    K3  C3  D3\n"
          ]
        }
      ]
    },
    {
      "cell_type": "markdown",
      "source": [
        "###Заполнение пропусков"
      ],
      "metadata": {
        "id": "oFY3Ciql7eM6"
      }
    },
    {
      "cell_type": "code",
      "source": [
        "import pandas as pd\n",
        "\n",
        "# Создаем таблицу с пропущенными значениями\n",
        "df = pd.DataFrame({'A': [1, 2, 3, 4, 5, 6],\n",
        "                   'B': [1, 2, 3, 4, 5, 6],\n",
        "                   'C': [None, 2, 3, 4, 5, 6]})\n",
        "print('до заполнения пропуска')\n",
        "print(df)\n",
        "# Заполняем пропущенные значения средним значением столбца\n",
        "df['C'] = df['C'].fillna(df['C'].mean())\n",
        "print('после заполнения пропуска')\n",
        "print(df)\n"
      ],
      "metadata": {
        "colab": {
          "base_uri": "https://localhost:8080/"
        },
        "id": "aiENalIHL3Xm",
        "outputId": "b239d9a7-8307-44a9-8487-d09470fa9da6"
      },
      "execution_count": null,
      "outputs": [
        {
          "output_type": "stream",
          "name": "stdout",
          "text": [
            "до заполнения пропуска\n",
            "   A  B    C\n",
            "0  1  1  NaN\n",
            "1  2  2  2.0\n",
            "2  3  3  3.0\n",
            "3  4  4  4.0\n",
            "4  5  5  5.0\n",
            "5  6  6  6.0\n",
            "после заполнения пропуска\n",
            "   A  B    C\n",
            "0  1  1  4.0\n",
            "1  2  2  2.0\n",
            "2  3  3  3.0\n",
            "3  4  4  4.0\n",
            "4  5  5  5.0\n",
            "5  6  6  6.0\n"
          ]
        }
      ]
    },
    {
      "cell_type": "code",
      "source": [
        "import pandas as pd\n",
        "\n",
        "# Создаем таблицу с пропущенными значениями\n",
        "df = pd.DataFrame({'A': [1, 2, 3, 4, 5, 6],\n",
        "                   'B': [1, 2, 3, 4, 5, 6],\n",
        "                   'C': [None, 2, 3, 4, 5, 6]})\n",
        "\n",
        "# Заполняем пропущенные значения фиксированным значением 0\n",
        "df['C'] = df['C'].fillna(0)\n",
        "print(df)\n"
      ],
      "metadata": {
        "colab": {
          "base_uri": "https://localhost:8080/"
        },
        "id": "BXRBAfWmL54x",
        "outputId": "bb5aaec3-e6c7-4414-9649-40828eb820bc"
      },
      "execution_count": null,
      "outputs": [
        {
          "output_type": "stream",
          "name": "stdout",
          "text": [
            "   A  B    C\n",
            "0  1  1  0.0\n",
            "1  2  2  2.0\n",
            "2  3  3  3.0\n",
            "3  4  4  4.0\n",
            "4  5  5  5.0\n",
            "5  6  6  6.0\n"
          ]
        }
      ]
    },
    {
      "cell_type": "code",
      "source": [
        "df[['A', 'B', 'C']] = df[['A', 'B', 'C']].fillna(0)"
      ],
      "metadata": {
        "id": "VnRX9ox787tT"
      },
      "execution_count": null,
      "outputs": []
    },
    {
      "cell_type": "markdown",
      "source": [
        "###Заполним пустые ячейки из [файла](https://drive.google.com/file/d/1mOXU48GaM7Bbv3zBxKaH4kTcVJoriC-1/view?usp=share_link)  нулями\n",
        "\n",
        "Файл содержит статистику по стоимости Интернета в разных странах.\n",
        "\n",
        "- Скачайте файл\n",
        "- Сохраните в колабе\n",
        "- Прочитайте файл как датафрейм\n",
        "- Заполните пустые ячейки нулями"
      ],
      "metadata": {
        "id": "FuiCZtlg-A9h"
      }
    },
    {
      "cell_type": "code",
      "source": [],
      "metadata": {
        "id": "ZAiNKZtr-OiU"
      },
      "execution_count": null,
      "outputs": []
    },
    {
      "cell_type": "markdown",
      "source": [
        "###Удаление строк с пропусками значений"
      ],
      "metadata": {
        "id": "_i5pb9yM9Zrk"
      }
    },
    {
      "cell_type": "code",
      "source": [
        "import pandas as pd\n",
        "\n",
        "# Создаем таблицу с пропущенными значениями\n",
        "df = pd.DataFrame({'A': [1, 2, 3, 4, 5, 6],\n",
        "                   'B': [1, 2, 3, 4, 5, 6],\n",
        "                   'C': [None, 2, 3, 4, 5, 6]})\n",
        "\n",
        "# Удаляем строки с пропущенными значениями\n",
        "df = df.dropna()\n",
        "print(df)\n"
      ],
      "metadata": {
        "id": "ura6ZMRp9YpZ",
        "colab": {
          "base_uri": "https://localhost:8080/"
        },
        "outputId": "1064e420-3820-4222-f6be-9707418369b0"
      },
      "execution_count": null,
      "outputs": [
        {
          "output_type": "stream",
          "name": "stdout",
          "text": [
            "   A  B    C\n",
            "1  2  2  2.0\n",
            "2  3  3  3.0\n",
            "3  4  4  4.0\n",
            "4  5  5  5.0\n",
            "5  6  6  6.0\n"
          ]
        }
      ]
    },
    {
      "cell_type": "markdown",
      "source": [
        "###Удалим строчки с пустыми значениями из [файла](https://drive.google.com/file/d/1mOXU48GaM7Bbv3zBxKaH4kTcVJoriC-1/view?usp=share_link)\n",
        "\n",
        "Файл содержит статистику по стоимости Интернета в разных странах.\n",
        "\n",
        "- Прочитайте файл как датафрейм\n",
        "- Удалите строки с пустыми значениями\n",
        "- Сколько строк было изначально и сколько осталось?"
      ],
      "metadata": {
        "id": "bv7UOQ1E9pq0"
      }
    },
    {
      "cell_type": "code",
      "source": [],
      "metadata": {
        "id": "zmXtw8jl-PVT"
      },
      "execution_count": null,
      "outputs": []
    },
    {
      "cell_type": "markdown",
      "source": [
        "###Преобразование типов данных\n",
        "Преобразуем в числа"
      ],
      "metadata": {
        "id": "WzkgWb6JPuaj"
      }
    },
    {
      "cell_type": "code",
      "source": [
        "import pandas as pd\n",
        "\n",
        "# Создаем таблицу со строками, которые нужно преобразовать в числа\n",
        "df = pd.DataFrame({'A': ['1', '2', '3'], 'B': ['4', '5', '6'], 'C': ['7', '8', '9']})\n",
        "\n",
        "# Преобразуем столбец 'A' в числа с плавающей точкой\n",
        "df['A'] = pd.to_numeric(df['A'])\n",
        "\n",
        "# Преобразуем столбец 'B' в целые числа\n",
        "df['B'] = pd.to_numeric(df['B'], downcast='integer')\n",
        "\n",
        "print(df.dtypes)\n"
      ],
      "metadata": {
        "colab": {
          "base_uri": "https://localhost:8080/"
        },
        "id": "VOFQPjMPPrBI",
        "outputId": "16c68919-e9ea-4661-f34b-804558c14a92"
      },
      "execution_count": null,
      "outputs": [
        {
          "output_type": "stream",
          "name": "stdout",
          "text": [
            "A     int64\n",
            "B      int8\n",
            "C    object\n",
            "dtype: object\n"
          ]
        }
      ]
    },
    {
      "cell_type": "markdown",
      "source": [
        "Преобразуем  строки в даты"
      ],
      "metadata": {
        "id": "gopMaCjXRP_e"
      }
    },
    {
      "cell_type": "code",
      "source": [
        "import pandas as pd\n",
        "\n",
        "# Создаем таблицу со строками, которые нужно преобразовать в даты\n",
        "df = pd.DataFrame({'A': ['2022-01-01', '2022-02-01', '2022-03-01'],\n",
        "                   'B': ['2022-01-02', '2022-02-02', '2022-03-02']})\n",
        "\n",
        "# Преобразуем столбец 'A' в даты\n",
        "df['A'] = pd.to_datetime(df['A'])\n",
        "\n",
        "# Преобразуем столбец 'B' в даты с определенным форматом\n",
        "df['B'] = pd.to_datetime(df['B'], format='%Y-%m-%d')\n",
        "\n",
        "print(df.dtypes)\n"
      ],
      "metadata": {
        "colab": {
          "base_uri": "https://localhost:8080/"
        },
        "id": "TpMfN3yfPr4j",
        "outputId": "63d677a5-48f5-496c-9dd5-b3bfaa966977"
      },
      "execution_count": null,
      "outputs": [
        {
          "output_type": "stream",
          "name": "stdout",
          "text": [
            "A    datetime64[ns]\n",
            "B    datetime64[ns]\n",
            "dtype: object\n"
          ]
        }
      ]
    },
    {
      "cell_type": "markdown",
      "source": [
        "|Спецификатор\t|Описание|\n",
        "|-------|------|\n",
        "|%Y\t|Год (4 цифры)|\n",
        "|%m\t|Месяц (2 цифры)|\n",
        "|%d\t|День месяца (2 цифры)|\n",
        "|%H\t|Час (2 цифры, 24-часовой формат|\n",
        "|%M\t|Минута (2 цифры)|\n",
        "|%S\t|Секунда (2 цифры)|\n",
        "|%f\t|Микросекунды (6 цифр)|\n",
        "|%z\t|Часовой пояс|"
      ],
      "metadata": {
        "id": "xGTO2Y8IS0Kv"
      }
    },
    {
      "cell_type": "markdown",
      "source": [
        "### Создадим csv-файл с информацией о датах и времени в виде строк"
      ],
      "metadata": {
        "id": "2EVHBxjHu82C"
      }
    },
    {
      "cell_type": "code",
      "source": [
        "import pandas as pd\n",
        "\n",
        "# Создаем таблицу с данными\n",
        "df = pd.DataFrame({'date_1': ['2022-01-01', '2022-01-02', '2022-01-03'],\n",
        "                   'time_1': ['10:00:00', '11:00:00', '12:00:00'],\n",
        "                   'date_2': ['01/01/2022', '02/01/2022', '03/01/2022'],\n",
        "                   'time_2': ['10:00 AM', '11:00 AM', '12:00 PM']})\n",
        "\n",
        "\n",
        "# Сохраняем таблицу в CSV файл\n",
        "df.to_csv('dates_and_times.csv', index=False)\n"
      ],
      "metadata": {
        "id": "AZFI1EXqRNP-"
      },
      "execution_count": null,
      "outputs": []
    },
    {
      "cell_type": "markdown",
      "source": [
        "### Прочитаем файл и преобразуем в datetime"
      ],
      "metadata": {
        "id": "k3cRLsh6vPaJ"
      }
    },
    {
      "cell_type": "code",
      "source": [
        "df = pd.read_csv('dates_and_times.csv')\n",
        "# Конвертируем столбцы с датами и временем в формат datetime\n",
        "df['date_1'] = pd.to_datetime(df['date_1'], format='%Y-%m-%d')\n",
        "df['time_1'] = pd.to_datetime(df['time_1'], format='%H:%M:%S')\n",
        "df['date_2'] = pd.to_datetime(df['date_2'], format='%d/%m/%Y')\n",
        "df['time_2'] = pd.to_datetime(df['time_2'], format='%I:%M %p')\n",
        "df"
      ],
      "metadata": {
        "colab": {
          "base_uri": "https://localhost:8080/",
          "height": 143
        },
        "id": "YOsc1SJzpLlM",
        "outputId": "0c9ed907-7766-4a5d-d0b8-a236f2a08543"
      },
      "execution_count": null,
      "outputs": [
        {
          "output_type": "execute_result",
          "data": {
            "text/plain": [
              "      date_1              time_1     date_2              time_2\n",
              "0 2022-01-01 1900-01-01 10:00:00 2022-01-01 1900-01-01 10:00:00\n",
              "1 2022-01-02 1900-01-01 11:00:00 2022-01-02 1900-01-01 11:00:00\n",
              "2 2022-01-03 1900-01-01 12:00:00 2022-01-03 1900-01-01 12:00:00"
            ],
            "text/html": [
              "\n",
              "  <div id=\"df-8c73b2bf-a0b1-4f0e-b4a7-ae43ca87ee16\">\n",
              "    <div class=\"colab-df-container\">\n",
              "      <div>\n",
              "<style scoped>\n",
              "    .dataframe tbody tr th:only-of-type {\n",
              "        vertical-align: middle;\n",
              "    }\n",
              "\n",
              "    .dataframe tbody tr th {\n",
              "        vertical-align: top;\n",
              "    }\n",
              "\n",
              "    .dataframe thead th {\n",
              "        text-align: right;\n",
              "    }\n",
              "</style>\n",
              "<table border=\"1\" class=\"dataframe\">\n",
              "  <thead>\n",
              "    <tr style=\"text-align: right;\">\n",
              "      <th></th>\n",
              "      <th>date_1</th>\n",
              "      <th>time_1</th>\n",
              "      <th>date_2</th>\n",
              "      <th>time_2</th>\n",
              "    </tr>\n",
              "  </thead>\n",
              "  <tbody>\n",
              "    <tr>\n",
              "      <th>0</th>\n",
              "      <td>2022-01-01</td>\n",
              "      <td>1900-01-01 10:00:00</td>\n",
              "      <td>2022-01-01</td>\n",
              "      <td>1900-01-01 10:00:00</td>\n",
              "    </tr>\n",
              "    <tr>\n",
              "      <th>1</th>\n",
              "      <td>2022-01-02</td>\n",
              "      <td>1900-01-01 11:00:00</td>\n",
              "      <td>2022-01-02</td>\n",
              "      <td>1900-01-01 11:00:00</td>\n",
              "    </tr>\n",
              "    <tr>\n",
              "      <th>2</th>\n",
              "      <td>2022-01-03</td>\n",
              "      <td>1900-01-01 12:00:00</td>\n",
              "      <td>2022-01-03</td>\n",
              "      <td>1900-01-01 12:00:00</td>\n",
              "    </tr>\n",
              "  </tbody>\n",
              "</table>\n",
              "</div>\n",
              "      <button class=\"colab-df-convert\" onclick=\"convertToInteractive('df-8c73b2bf-a0b1-4f0e-b4a7-ae43ca87ee16')\"\n",
              "              title=\"Convert this dataframe to an interactive table.\"\n",
              "              style=\"display:none;\">\n",
              "        \n",
              "  <svg xmlns=\"http://www.w3.org/2000/svg\" height=\"24px\"viewBox=\"0 0 24 24\"\n",
              "       width=\"24px\">\n",
              "    <path d=\"M0 0h24v24H0V0z\" fill=\"none\"/>\n",
              "    <path d=\"M18.56 5.44l.94 2.06.94-2.06 2.06-.94-2.06-.94-.94-2.06-.94 2.06-2.06.94zm-11 1L8.5 8.5l.94-2.06 2.06-.94-2.06-.94L8.5 2.5l-.94 2.06-2.06.94zm10 10l.94 2.06.94-2.06 2.06-.94-2.06-.94-.94-2.06-.94 2.06-2.06.94z\"/><path d=\"M17.41 7.96l-1.37-1.37c-.4-.4-.92-.59-1.43-.59-.52 0-1.04.2-1.43.59L10.3 9.45l-7.72 7.72c-.78.78-.78 2.05 0 2.83L4 21.41c.39.39.9.59 1.41.59.51 0 1.02-.2 1.41-.59l7.78-7.78 2.81-2.81c.8-.78.8-2.07 0-2.86zM5.41 20L4 18.59l7.72-7.72 1.47 1.35L5.41 20z\"/>\n",
              "  </svg>\n",
              "      </button>\n",
              "      \n",
              "  <style>\n",
              "    .colab-df-container {\n",
              "      display:flex;\n",
              "      flex-wrap:wrap;\n",
              "      gap: 12px;\n",
              "    }\n",
              "\n",
              "    .colab-df-convert {\n",
              "      background-color: #E8F0FE;\n",
              "      border: none;\n",
              "      border-radius: 50%;\n",
              "      cursor: pointer;\n",
              "      display: none;\n",
              "      fill: #1967D2;\n",
              "      height: 32px;\n",
              "      padding: 0 0 0 0;\n",
              "      width: 32px;\n",
              "    }\n",
              "\n",
              "    .colab-df-convert:hover {\n",
              "      background-color: #E2EBFA;\n",
              "      box-shadow: 0px 1px 2px rgba(60, 64, 67, 0.3), 0px 1px 3px 1px rgba(60, 64, 67, 0.15);\n",
              "      fill: #174EA6;\n",
              "    }\n",
              "\n",
              "    [theme=dark] .colab-df-convert {\n",
              "      background-color: #3B4455;\n",
              "      fill: #D2E3FC;\n",
              "    }\n",
              "\n",
              "    [theme=dark] .colab-df-convert:hover {\n",
              "      background-color: #434B5C;\n",
              "      box-shadow: 0px 1px 3px 1px rgba(0, 0, 0, 0.15);\n",
              "      filter: drop-shadow(0px 1px 2px rgba(0, 0, 0, 0.3));\n",
              "      fill: #FFFFFF;\n",
              "    }\n",
              "  </style>\n",
              "\n",
              "      <script>\n",
              "        const buttonEl =\n",
              "          document.querySelector('#df-8c73b2bf-a0b1-4f0e-b4a7-ae43ca87ee16 button.colab-df-convert');\n",
              "        buttonEl.style.display =\n",
              "          google.colab.kernel.accessAllowed ? 'block' : 'none';\n",
              "\n",
              "        async function convertToInteractive(key) {\n",
              "          const element = document.querySelector('#df-8c73b2bf-a0b1-4f0e-b4a7-ae43ca87ee16');\n",
              "          const dataTable =\n",
              "            await google.colab.kernel.invokeFunction('convertToInteractive',\n",
              "                                                     [key], {});\n",
              "          if (!dataTable) return;\n",
              "\n",
              "          const docLinkHtml = 'Like what you see? Visit the ' +\n",
              "            '<a target=\"_blank\" href=https://colab.research.google.com/notebooks/data_table.ipynb>data table notebook</a>'\n",
              "            + ' to learn more about interactive tables.';\n",
              "          element.innerHTML = '';\n",
              "          dataTable['output_type'] = 'display_data';\n",
              "          await google.colab.output.renderOutput(dataTable, element);\n",
              "          const docLink = document.createElement('div');\n",
              "          docLink.innerHTML = docLinkHtml;\n",
              "          element.appendChild(docLink);\n",
              "        }\n",
              "      </script>\n",
              "    </div>\n",
              "  </div>\n",
              "  "
            ]
          },
          "metadata": {},
          "execution_count": 26
        }
      ]
    }
  ]
}